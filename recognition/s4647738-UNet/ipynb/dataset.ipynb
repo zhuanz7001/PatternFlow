{
  "nbformat": 4,
  "nbformat_minor": 0,
  "metadata": {
    "colab": {
      "provenance": [],
      "collapsed_sections": []
    },
    "kernelspec": {
      "name": "python3",
      "display_name": "Python 3"
    },
    "language_info": {
      "name": "python"
    }
  },
  "cells": [
    {
      "cell_type": "code",
      "execution_count": null,
      "metadata": {
        "id": "1KCZ4s-xdLca"
      },
      "outputs": [],
      "source": [
        "import tensorflow as tf\n",
        "import glob\n",
        "import cv2\n",
        "import numpy as np"
      ]
    },
    {
      "cell_type": "code",
      "source": [
        "def process_image(image):\n",
        "  # Processes image shape for use by the model\n",
        "  processed_image = cv2.imread(image, cv2.IMREAD_GRAYSCALE)\n",
        "  processed_image = cv2.resize(processed_image, (256, 256))\n",
        "  processed_image = processed_image / 255.0\n",
        "  return processed_image"
      ],
      "metadata": {
        "id": "B6EZk4gwlgHQ"
      },
      "execution_count": null,
      "outputs": []
    },
    {
      "cell_type": "code",
      "source": [
        "def load_dataset(path, seg_path):\n",
        "  # Arrays to store images after processing\n",
        "  processed_images = []\n",
        "  processed_seg_images = []\n",
        "\n",
        "  # Searches for correct images (i.e. no superpixels images or csv)\n",
        "  images = sorted(glob.glob(path + '/*_???????.jpg'))\n",
        "  seg_images = sorted(glob.glob(seg_path + '/*.png'))\n",
        "\n",
        "  for image in images:\n",
        "    processed_image = process_image(image)\n",
        "    processed_images.append(processed_image)\n",
        "  for image in seg_images:\n",
        "    processed_image = process_image(image)\n",
        "    processed_seg_images.append(processed_image)\n",
        "\n",
        "  # Convert to numpy arrays to save memory\n",
        "  processed_images = np.array(processed_images)\n",
        "  processed_seg_images = np.expand_dims(np.array(processed_seg_images), -1)\n",
        "  return processed_images, processed_seg_images"
      ],
      "metadata": {
        "id": "NmXmHaZQl7ZE"
      },
      "execution_count": null,
      "outputs": []
    }
  ]
}