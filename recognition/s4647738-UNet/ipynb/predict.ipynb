{
  "nbformat": 4,
  "nbformat_minor": 0,
  "metadata": {
    "colab": {
      "provenance": [],
      "collapsed_sections": []
    },
    "kernelspec": {
      "name": "python3",
      "display_name": "Python 3"
    },
    "language_info": {
      "name": "python"
    }
  },
  "cells": [
    {
      "cell_type": "code",
      "source": [
        "import matplotlib.pyplot as plt\n",
        "import tensorflow as tf\n",
        "import random\n",
        "from tensorflow.keras import models"
      ],
      "metadata": {
        "id": "JYj2m1qllXXy"
      },
      "execution_count": 1,
      "outputs": []
    },
    {
      "cell_type": "code",
      "source": [
        "!pip install kora -q"
      ],
      "metadata": {
        "id": "SfgI_waBot4p"
      },
      "execution_count": 2,
      "outputs": []
    },
    {
      "cell_type": "code",
      "source": [
        "from kora import drive\n",
        "drive.link_nbs()"
      ],
      "metadata": {
        "id": "IkrJwLAosH5o"
      },
      "execution_count": 3,
      "outputs": []
    },
    {
      "cell_type": "code",
      "source": [
        "import dataset\n",
        "import modules"
      ],
      "metadata": {
        "id": "vR_dI_aOshHK"
      },
      "execution_count": 18,
      "outputs": []
    },
    {
      "cell_type": "code",
      "source": [
        "def plot_predicted_masks(images, masks, number_of_samples):\n",
        "  \"\"\"\n",
        "  Retrieves a specified number of images from validation folder to be input into\n",
        "  the model are plots the resulting mask compared to its actual mask\n",
        "  Parameters:\n",
        "  images, masks: loaded datasets from the validation ISIC folder\n",
        "  number_of_samples: number of images to be input into the model\n",
        "  \"\"\"\n",
        "  sample = random.sample(range(0, 149), number_of_samples)\n",
        "  custom_objects = {\"ContextModule\": modules.ContextModule, \"LocalizationModule\": modules.LocalizationModule, \"SegmentationModule\": modules.SegmentationModule}\n",
        "  model = models.load_model('/content/drive/MyDrive/ISIC/improved_unet.model', custom_objects)\n",
        "  predicted_masks = model.predict(images)\n",
        "\n",
        "  mask_plot, axs = plt.subplots(number_of_samples, 3)\n",
        "\n",
        "  axs[0,0].set_title(\"Original Image\") \n",
        "  axs[0,1].set_title(\"Actual Mask\")  \n",
        "  axs[0,2].set_title(\"Predicted Mask\") \n",
        "  for number, i in enumerate(sample):\n",
        "      # Original\n",
        "      axs[number, 0].imshow(images[i])                                                                                                                                                                                                                                                                                                                                                                                                                                                                                                                                                                                                                                                                                                                                                                                                                                                                                                                                                                                                                                                                                                                                                                                                                                                                                                                                                                                                                                                                                                                                                                                                                                                                                                                                                                                                                                                                                                                                                                                                                                                                                                                                                                                                                                                                                                                                                                                                                                                                                                                                                                                                                                                                                                                                                                                                             # type: ignore\n",
        "      # Actual\n",
        "      axs[number, 1].imshow(tf.argmax(masks[i], axis = 2))  # type: ignore\n",
        "      # Prediction\n",
        "      axs[number, 2].imshow(tf.argmax(predicted_masks[i], axis = 2))  \n",
        "\n",
        "      for a in [0, 1, 2]:\n",
        "          axs[number, a].set_xticks([])  \n",
        "          axs[number, a].set_yticks([])  \n",
        "\n",
        "\n",
        "  mask_plot.savefig('mask.png')\n",
        "  mask_plot.show()    "
      ],
      "metadata": {
        "id": "it-iwZ8agu_u"
      },
      "execution_count": 17,
      "outputs": []
    },
    {
      "cell_type": "code",
      "source": [
        "seg_val_path = '/content/drive/MyDrive/ISIC/ISIC-2017_Validation_Part1_GroundTruth'\n",
        "val_path = '/content/drive/MyDrive/ISIC/ISIC-2017_Validation_Data'"
      ],
      "metadata": {
        "id": "Q9yWQPmxsQyG"
      },
      "execution_count": 10,
      "outputs": []
    },
    {
      "cell_type": "code",
      "source": [
        "images, masks = dataset.load_dataset(val_path, seg_val_path)"
      ],
      "metadata": {
        "id": "qPbMmurisX4n"
      },
      "execution_count": 11,
      "outputs": []
    }
  ]
}